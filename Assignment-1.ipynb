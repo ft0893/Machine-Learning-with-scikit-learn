{
 "cells": [
  {
   "cell_type": "code",
   "execution_count": 1,
   "metadata": {},
   "outputs": [],
   "source": [
    "#Import libraries and functions\n",
    "import numpy as np\n",
    "import matplotlib.pyplot as pt\n",
    "import pandas as pd\n",
    "import seaborn as sns\n",
    "import csv\n",
    "from sklearn.naive_bayes import GaussianNB\n",
    "from sklearn.datasets import load_iris\n",
    "from sklearn import decomposition\n",
    "from sklearn import tree\n",
    "from sklearn.pipeline import Pipeline\n",
    "from sklearn.preprocessing import StandardScaler\n",
    "from sklearn.model_selection import GridSearchCV\n",
    "from sklearn.linear_model import Perceptron\n",
    "from sklearn.neural_network import MLPClassifier\n",
    "from sklearn.metrics import classification_report\n",
    "from sklearn.metrics import confusion_matrix"
   ]
  },
  {
   "cell_type": "code",
   "execution_count": 2,
   "metadata": {},
   "outputs": [],
   "source": [
    "#Import dataset 1\n",
    "\n",
    "train_data_1=pd.read_csv(\"Assig1-Dataset/train_1.csv\")\n",
    "val_data_1=pd.read_csv(\"Assig1-Dataset/val_1.csv\")\n",
    "test_data_1=pd.read_csv(\"Assig1-Dataset/test_with_label_1.csv\")\n",
    "info_1=pd.read_csv(\"Assig1-Dataset/info_1.csv\")\n",
    "\n",
    "#print (train_data_1)\n",
    "#print (val_data_1)\n",
    "#print (test_data_1)\n",
    "\n",
    "#Split data and label\n",
    "train_X_1=train_data_1.loc[:, :'1.827']\n",
    "train_Y_1=train_data_1['1.828']\n",
    "\n",
    "val_X_1=val_data_1.loc[:, :'1.842']\n",
    "val_Y_1=val_data_1['1.843']\n",
    "\n",
    "test_X_1=test_data_1.loc[:, :'1.849']\n",
    "test_Y_1=test_data_1['4']\n",
    "\n",
    "#print(train_Y_1)\n",
    "#print(val_Y_1)\n",
    "#print(test_Y_1)"
   ]
  },
  {
   "cell_type": "code",
   "execution_count": 29,
   "metadata": {},
   "outputs": [],
   "source": [
    "#Import dataset 2\n",
    "\n",
    "train_data_2=pd.read_csv(\"Assig1-Dataset/train_2.csv\")\n",
    "val_data_2=pd.read_csv(\"Assig1-Dataset/val_2.csv\")\n",
    "test_data_2=pd.read_csv(\"Assig1-Dataset/test_with_label_2.csv\")\n",
    "info_2=pd.read_csv(\"Assig1-Dataset/info_2.csv\")\n",
    "\n",
    "#print (train_data_2)\n",
    "#print (val_data_2)\n",
    "#print (test_data_2)\n",
    "\n",
    "#Split data and label\n",
    "train_X_2=train_data_2.loc[:, :'1.872']\n",
    "train_Y_2=train_data_2['9']\n",
    "\n",
    "val_X_2=val_data_2.loc[:, :'1.881']\n",
    "val_Y_2=val_data_2['8']\n",
    "\n",
    "test_X_2=test_data_2.loc[:, :'1.849']\n",
    "test_Y_2=test_data_2['9']\n",
    "\n",
    "#print(train_Y_2)\n",
    "#print(val_Y_2)\n",
    "#print(test_Y_2)"
   ]
  },
  {
   "cell_type": "code",
   "execution_count": 16,
   "metadata": {},
   "outputs": [
    {
     "name": "stdout",
     "output_type": "stream",
     "text": [
      "    index symbol\n",
      "0       0      A\n",
      "1       1      B\n",
      "2       2      C\n",
      "3       3      D\n",
      "4       4      E\n",
      "5       5      F\n",
      "6       6      G\n",
      "7       7      H\n",
      "8       8      I\n",
      "9       9      J\n",
      "10     10      K\n",
      "11     11      L\n",
      "12     12      M\n",
      "13     13      N\n",
      "14     14      O\n",
      "15     15      P\n",
      "16     16      Q\n",
      "17     17      R\n",
      "18     18      S\n",
      "19     19      T\n",
      "20     20      U\n",
      "21     21      V\n",
      "22     22      W\n",
      "23     23      X\n",
      "24     24      Y\n",
      "25     25      Z\n"
     ]
    },
    {
     "data": {
      "text/plain": [
       "<matplotlib.axes._subplots.AxesSubplot at 0x2b14b0ef340>"
      ]
     },
     "execution_count": 16,
     "metadata": {},
     "output_type": "execute_result"
    },
    {
     "data": {
      "image/png": "[encoded data removed]",
      "text/plain": [
       "<Figure size 432x288 with 1 Axes>"
      ]
     },
     "metadata": {
      "needs_background": "light"
     },
     "output_type": "display_data"
    }
   ],
   "source": [
    "#Plot the distribution of datasets 1\n",
    "\n",
    "print(info_1)\n",
    "sns.distplot(train_Y_1,kde=False,bins=26)\n",
    "sns.distplot(val_Y_1,kde=False,bins=26)\n",
    "sns.distplot(test_Y_1,kde=False,bins=26)"
   ]
  },
  {
   "cell_type": "code",
   "execution_count": 17,
   "metadata": {},
   "outputs": [
    {
     "name": "stdout",
     "output_type": "stream",
     "text": [
      "   index  symbol\n",
      "0      0      pi\n",
      "1      1   alpha\n",
      "2      2    beta\n",
      "3      3   sigma\n",
      "4      4   gamma\n",
      "5      5   delta\n",
      "6      6  lambda\n",
      "7      7   omega\n",
      "8      8      mu\n",
      "9      9      xi\n"
     ]
    },
    {
     "data": {
      "text/plain": [
       "<matplotlib.axes._subplots.AxesSubplot at 0x2b14b10ee80>"
      ]
     },
     "execution_count": 17,
     "metadata": {},
     "output_type": "execute_result"
    },
    {
     "data": {
      "image/png": "[encoded data removed]",
      "text/plain": [
       "<Figure size 432x288 with 1 Axes>"
      ]
     },
     "metadata": {
      "needs_background": "light"
     },
     "output_type": "display_data"
    }
   ],
   "source": [
    "#Plot the distribution of datasets 1 and 2\n",
    "\n",
    "print(info_2)\n",
    "sns.distplot(train_Y_2,kde=False,bins=9)\n",
    "sns.distplot(val_Y_2,kde=False,bins=9)\n",
    "sns.distplot(test_Y_2,kde=False,bins=9)"
   ]
  },
  {
   "cell_type": "code",
   "execution_count": 3,
   "metadata": {},
   "outputs": [
    {
     "name": "stdout",
     "output_type": "stream",
     "text": [
      "GaussianNB() \n",
      " 0.9147157190635451 \n",
      " [13  7  2 18 17 25 23 22 20  6  9 11 19  1  5  1  8  2 12 16  0 25 17 16\n",
      "  1 22  8 21 12  1 12 10 16 10 17 16  1 15 12 16 11 13  1 13 17 12 14 24\n",
      "  0  0  3 22 20  3 14 25  9 15 14 13  2 11 12 17  6  6 20 13  3 24 22 21\n",
      "  8 21 18  0 17 12 19] \n",
      " 0.6962025316455697\n"
     ]
    },
    {
     "name": "stderr",
     "output_type": "stream",
     "text": [
      "C:\\Users\\franc\\anaconda3\\lib\\site-packages\\sklearn\\metrics\\_classification.py:1221: UndefinedMetricWarning: Precision and F-score are ill-defined and being set to 0.0 in labels with no predicted samples. Use `zero_division` parameter to control this behavior.\n",
      "  _warn_prf(average, modifier, msg_start, len(result))\n"
     ]
    }
   ],
   "source": [
    "#Gaussian Naive Bayes Classifier for dataset 1\n",
    "\n",
    "clf = GaussianNB()\n",
    "train_fit=clf.fit(train_X_1, train_Y_1)\n",
    "train_score=clf.score(train_X_1, train_Y_1)\n",
    "\n",
    "test_predict=clf.predict(test_X_1)\n",
    "test_score=clf.score(test_X_1, test_Y_1)\n",
    "\n",
    "print(train_fit,\"\\n\", train_score,\"\\n\",test_predict,\"\\n\",test_score)\n",
    "\n",
    "#Output file for Gaussian Naive Bayes Classifier for dataset 1\n",
    "\n",
    "filename = \"Output/GNB-DS1.csv\"\n",
    "size = np.arange(1,test_predict.shape[0])\n",
    "matrix = confusion_matrix(test_Y_1, test_predict)\n",
    "matrix_transpose = pd.DataFrame(matrix).transpose()\n",
    "results = classification_report(test_Y_1, test_predict, output_dict=True)\n",
    "results_transpose = pd.DataFrame(results).transpose()\n",
    "\n",
    "with open(filename, \"w\", newline=\"\") as file:\n",
    "    writer = csv.writer(file)   \n",
    "    writer.writerow([\"Prediction:\"])\n",
    "    for i in zip(size, test_predict):\n",
    "        writer.writerow([i])        \n",
    "    writer = csv.writer(file)\n",
    "    writer.writerow(\"\")\n",
    "    writer.writerow([\"Confusion Matrix:\"])\n",
    "matrix_transpose.to_csv(filename, mode=\"a\")\n",
    "\n",
    "with open(filename, \"a\", newline=\"\") as file:\n",
    "    writer = csv.writer(file)\n",
    "    writer.writerow(\"\")\n",
    "    writer.writerow([\"Results:\"])\n",
    "results_transpose.to_csv(filename, mode=\"a\")"
   ]
  },
  {
   "cell_type": "code",
   "execution_count": 108,
   "metadata": {},
   "outputs": [
    {
     "name": "stdout",
     "output_type": "stream",
     "text": [
      "GaussianNB() \n",
      " 0.6396973971021926 \n",
      " [3 0 5 9 3 1 3 6 9 0 1 3 9 2 3 9 9 7 1 6 1 2 7 9 2 1 1 2 2 9 2 2 9 2 1 6 9\n",
      " 1 1 3 7 4 5 9 9 1 3 6 1 0 4 5 9 0 0 8 5 6 1 1 6 3 0 6 1 1 9 0 0 3 0 1 9 5\n",
      " 2 9 1 3 4 1 1 4 6 4 6 9 0 7 6 8 9 1 1 5 1 9 6 0 0 0 2 2 9 9 5 6 5 5 4 1 9\n",
      " 4 5 8 5 8 0 2 9 1 9 4 9 1 1 6 9 4 9 1 1 6 1 9 1 4 6 0 2 5 3 1 9 9 4 9 9 5\n",
      " 1 1 5 9 1 6 3 1 5 5 3 0 2 1 1 1 1 1 1 9 0 5 9 9 4 4 1 1 3 2 5 9 1 9 9 4 1\n",
      " 9 9 4 3 1 9 1 6 5 7 9 7 6 9 6 0 9 0 5 5 2 1 5 3 4 6 3 0 9 3 2 1 0 9 2 1 6\n",
      " 4 5 3 2 5 4 1 9 1 4 9 1 6 6 9 2 0 2 3 9 6 1 1 5 4 9 7 9 1 1 1 9 0 9 3 1 1\n",
      " 9 0 1 1 6 6 9 2 7 1 5 4 5 1 7 1 5 2 9 5 0 3 6 6 3 9 0 1 9 1 3 9 2 8 1 9 1\n",
      " 0 8 9 3 5 9 5 1 1 1 7 0 3 9 5 0 9 1 2 9 9 9 7 9 1 6 5 8 9 9 0 1 9 6 1 9 4\n",
      " 1 6 7 1 9 9 2 1 6 8 3 9 5 4 2 9 3 3 3 2 1 9 9 1 1 1 3 9 4 2 9 2 3 1 1 3 9\n",
      " 5 1 5 1 6 1 9 8 8 1 9 1 1 1 9 4 4 9 0 9 9 3 1 9 1 2 8 2 1 1 9 0 9 2 7 8 9\n",
      " 8 4 5 6 1 0 1 1 9 1 9 5 9 6 0 9 2 0 9 5 4 2 9 3 1 9 9 1 1 6 9 5 1 0 0 1 3\n",
      " 9 2 2 4 5 6 6 1 9 8 4 1 0 1 9 1 2 2 9 9 9 1 8 7 2 9 8 2 9 3 5 5 0 6 1 6 1\n",
      " 1 2 6 4 9 6 9 0 3 5 4 1 6 1 3 3 0 1 9 0 9 4 9 0 2 1 9 8 6 1 1 9 4 3 1 9 6\n",
      " 5] \n",
      " 0.6685934489402697\n"
     ]
    }
   ],
   "source": [
    "#Gaussian Naive Bayes Classifier for dataset 2\n",
    "\n",
    "clf = GaussianNB()\n",
    "train_fit=clf.fit(train_X_2, train_Y_2)\n",
    "train_score=clf.score(train_X_2, train_Y_2)\n",
    "\n",
    "test_predict=clf.predict(test_X_2)\n",
    "test_score=clf.score(test_X_2, test_Y_2)\n",
    "\n",
    "print(train_fit,\"\\n\", train_score,\"\\n\",test_predict,\"\\n\",test_score)\n",
    "\n",
    "filename = \"Output/GNB-DS2.csv\"\n",
    "size = np.arange(1,test_predict.shape[0])\n",
    "matrix = confusion_matrix(test_Y_2, test_predict)\n",
    "matrix_transpose = pd.DataFrame(matrix).transpose()\n",
    "results = classification_report(test_Y_2, test_predict, output_dict=True)\n",
    "results_transpose = pd.DataFrame(results).transpose()\n",
    "\n",
    "with open(filename, \"w\", newline=\"\") as file:\n",
    "    writer = csv.writer(file)   \n",
    "    writer.writerow([\"Prediction:\"])\n",
    "    for i in zip(size, test_predict):\n",
    "        writer.writerow([i])        \n",
    "    writer = csv.writer(file)\n",
    "    writer.writerow(\"\")\n",
    "    writer.writerow([\"Confusion Matrix:\"])\n",
    "matrix_transpose.to_csv(filename, mode=\"a\")\n",
    "\n",
    "with open(filename, \"a\", newline=\"\") as file:\n",
    "    writer = csv.writer(file)\n",
    "    writer.writerow(\"\")\n",
    "    writer.writerow([\"Results:\"])\n",
    "results_transpose.to_csv(filename, mode=\"a\")"
   ]
  },
  {
   "cell_type": "code",
   "execution_count": 111,
   "metadata": {},
   "outputs": [
    {
     "name": "stdout",
     "output_type": "stream",
     "text": [
      "DecisionTreeClassifier(criterion='entropy', random_state=0) \n",
      " 1.0 \n",
      " [13 22  2 18 17 11 22 13 20  6  9 11 14  4  5 18  3  2 13  4  0  9 17  9\n",
      "  4 22 20 23 24  1 23  6  3 20 24 18 19  9 15 16 20 13 15 13 13 13 14 24\n",
      "  0  7  3 21 20 15 14 23  9 16 14 12  2 11 10  0  0  6 20 24 21 24  0 21\n",
      "  8 21 18 15  5 14 19] \n",
      " 0.5063291139240507\n"
     ]
    },
    {
     "name": "stderr",
     "output_type": "stream",
     "text": [
      "C:\\Users\\franc\\anaconda3\\lib\\site-packages\\sklearn\\metrics\\_classification.py:1221: UndefinedMetricWarning: Precision and F-score are ill-defined and being set to 0.0 in labels with no predicted samples. Use `zero_division` parameter to control this behavior.\n",
      "  _warn_prf(average, modifier, msg_start, len(result))\n"
     ]
    }
   ],
   "source": [
    "#Baseline Decision Tree for dataset 1\n",
    "\n",
    "clf = DecisionTreeClassifier(random_state=0)\n",
    "iris = load_iris()\n",
    "clf.fit(iris.data, iris.target)\n",
    "parameters = clf.get_params()\n",
    "parameters['criterion'] = 'entropy'\n",
    "\n",
    "entropy_clf = DecisionTreeClassifier(**parameters)\n",
    "train_fit = entropy_clf.fit(train_X_1, train_Y_1)\n",
    "train_score = entropy_clf.score(train_X_1, train_Y_1)\n",
    "\n",
    "test_predict = entropy_clf.predict(test_X_1)\n",
    "test_score = entropy_clf.score(test_X_1, test_Y_1)\n",
    "print(train_fit,\"\\n\", train_score,\"\\n\",test_predict,\"\\n\",test_score)\n",
    "\n",
    "filename = \"Output/Base-DST-DS1.csv\"\n",
    "size = np.arange(1,test_predict.shape[0])\n",
    "matrix = confusion_matrix(test_Y_1, test_predict)\n",
    "matrix_transpose = pd.DataFrame(matrix).transpose()\n",
    "results = classification_report(test_Y_1, test_predict, output_dict=True)\n",
    "results_transpose = pd.DataFrame(results).transpose()\n",
    "\n",
    "with open(filename, \"w\", newline=\"\") as file:\n",
    "    writer = csv.writer(file)   \n",
    "    writer.writerow([\"Prediction:\"])\n",
    "    for i in zip(size, test_predict):\n",
    "        writer.writerow([i])        \n",
    "    writer = csv.writer(file)\n",
    "    writer.writerow(\"\")\n",
    "    writer.writerow([\"Confusion Matrix:\"])\n",
    "matrix_transpose.to_csv(filename, mode=\"a\")\n",
    "\n",
    "with open(filename, \"a\", newline=\"\") as file:\n",
    "    writer = csv.writer(file)\n",
    "    writer.writerow(\"\")\n",
    "    writer.writerow([\"Results:\"])\n",
    "results_transpose.to_csv(filename, mode=\"a\")"
   ]
  },
  {
   "cell_type": "code",
   "execution_count": 113,
   "metadata": {},
   "outputs": [
    {
     "name": "stdout",
     "output_type": "stream",
     "text": [
      "DecisionTreeClassifier(criterion='entropy', random_state=0) \n",
      " 1.0 \n",
      " [4 9 5 4 1 1 3 8 9 4 1 3 9 0 1 9 9 7 1 6 1 9 7 9 8 1 1 8 8 9 8 8 9 8 1 9 9\n",
      " 1 1 3 7 0 8 9 4 1 1 5 1 1 0 5 9 0 1 8 5 9 1 1 5 0 0 9 0 1 4 0 4 1 1 1 5 5\n",
      " 8 4 1 9 9 7 3 1 5 0 6 9 9 7 6 8 4 1 1 9 1 9 9 0 0 5 8 8 2 9 5 8 5 9 4 1 9\n",
      " 4 5 8 9 8 1 8 9 1 5 5 9 1 1 2 9 9 9 1 1 8 1 9 1 4 9 4 8 5 0 1 5 4 4 9 9 9\n",
      " 1 1 5 9 1 5 0 1 5 5 5 0 8 0 1 1 1 1 3 9 0 5 9 5 0 9 1 1 4 8 5 4 1 9 9 0 1\n",
      " 9 9 9 3 1 9 1 2 4 7 9 1 9 9 9 0 9 0 9 8 8 5 5 4 4 9 0 0 9 0 8 1 1 9 8 1 9\n",
      " 5 9 3 0 5 4 1 9 1 9 9 1 2 5 9 2 1 0 0 9 9 1 1 5 0 9 8 9 1 1 1 5 0 9 5 1 1\n",
      " 4 1 1 1 4 2 9 2 7 4 5 4 9 1 7 0 5 0 9 9 0 1 4 6 3 9 0 1 5 1 1 9 8 8 1 9 1\n",
      " 0 8 9 0 5 9 5 1 1 1 7 8 1 4 9 1 4 1 8 5 9 9 7 9 6 9 9 4 9 9 0 1 5 5 1 4 4\n",
      " 1 5 7 1 9 4 8 7 5 8 0 4 5 9 9 5 3 1 1 8 1 9 9 1 5 3 3 2 2 5 9 9 0 1 1 3 9\n",
      " 4 1 5 1 9 1 9 8 9 1 9 1 1 1 9 4 4 9 9 5 9 0 1 9 1 2 8 5 1 1 9 4 9 8 7 8 9\n",
      " 8 2 5 6 1 0 1 1 9 1 4 9 4 9 4 9 8 0 9 5 1 8 5 9 1 9 9 1 1 9 5 5 1 0 0 1 0\n",
      " 5 8 8 0 9 9 9 1 9 8 4 1 0 1 9 1 8 8 9 8 4 1 8 7 8 4 8 2 9 3 4 5 0 8 0 6 0\n",
      " 1 8 9 4 9 8 1 0 1 5 4 1 8 0 3 0 0 1 9 0 5 4 9 0 2 1 5 8 9 1 1 9 4 0 1 4 6\n",
      " 5] \n",
      " 0.7803468208092486\n"
     ]
    }
   ],
   "source": [
    "#Baseline Decision Tree for dataset 2\n",
    "\n",
    "clf = DecisionTreeClassifier(random_state=0)\n",
    "iris = load_iris()\n",
    "clf.fit(iris.data, iris.target)\n",
    "parameters = clf.get_params()\n",
    "parameters['criterion'] = 'entropy'\n",
    "\n",
    "entropy_clf = DecisionTreeClassifier(**parameters)\n",
    "train_fit = entropy_clf.fit(train_X_2, train_Y_2)\n",
    "train_score = entropy_clf.score(train_X_2, train_Y_2)\n",
    "\n",
    "test_predict = entropy_clf.predict(test_X_2)\n",
    "test_score = entropy_clf.score(test_X_2, test_Y_2)\n",
    "print(train_fit,\"\\n\", train_score,\"\\n\",test_predict,\"\\n\",test_score)\n",
    "\n",
    "filename = \"Output/Base-DST-DS2.csv\"\n",
    "size = np.arange(1,test_predict.shape[0])\n",
    "matrix = confusion_matrix(test_Y_2, test_predict)\n",
    "matrix_transpose = pd.DataFrame(matrix).transpose()\n",
    "results = classification_report(test_Y_2, test_predict, output_dict=True)\n",
    "results_transpose = pd.DataFrame(results).transpose()\n",
    "\n",
    "with open(filename, \"w\", newline=\"\") as file:\n",
    "    writer = csv.writer(file)   \n",
    "    writer.writerow([\"Prediction:\"])\n",
    "    for i in zip(size, test_predict):\n",
    "        writer.writerow([i])        \n",
    "    writer = csv.writer(file)\n",
    "    writer.writerow(\"\")\n",
    "    writer.writerow([\"Confusion Matrix:\"])\n",
    "matrix_transpose.to_csv(filename, mode=\"a\")\n",
    "\n",
    "with open(filename, \"a\", newline=\"\") as file:\n",
    "    writer = csv.writer(file)\n",
    "    writer.writerow(\"\")\n",
    "    writer.writerow([\"Results:\"])\n",
    "results_transpose.to_csv(filename, mode=\"a\")"
   ]
  },
  {
   "cell_type": "code",
   "execution_count": 121,
   "metadata": {},
   "outputs": [
    {
     "name": "stdout",
     "output_type": "stream",
     "text": [
      "GridSearchCV(cv=3, estimator=DecisionTreeClassifier(random_state=0), n_jobs=-1,\n",
      "             param_grid={'class_weight': ['none', 'balanced'],\n",
      "                         'criterion': ['gini', 'entropy'], 'max_depth': [1],\n",
      "                         'min_impurity_decrease': [0, 1, 5, 10],\n",
      "                         'min_samples_split': [0, 1, 5, 10]}) \n",
      " 0.07525083612040134 \n",
      " [ 7  7 15  7 15  7  7  7  7  7 15  7  7 15 15 15 15  7  7 15 15 15 15 15\n",
      " 15  7  7  7  7 15  7  7 15  7  7  7 15 15 15  7  7  7 15  7  7  7  7  7\n",
      " 15  7 15  7  7 15 15  7 15 15  7  7 15  7  7 15  7 15  7  7  7  7  7  7\n",
      " 15  7  7 15 15 15 15] \n",
      " 0.0759493670886076\n",
      "Best parameters found:\n",
      " {'class_weight': 'balanced', 'criterion': 'gini', 'max_depth': 1, 'min_impurity_decrease': 0, 'min_samples_split': 5}\n"
     ]
    },
    {
     "name": "stderr",
     "output_type": "stream",
     "text": [
      "C:\\Users\\franc\\anaconda3\\lib\\site-packages\\sklearn\\metrics\\_classification.py:1221: UndefinedMetricWarning: Precision and F-score are ill-defined and being set to 0.0 in labels with no predicted samples. Use `zero_division` parameter to control this behavior.\n",
      "  _warn_prf(average, modifier, msg_start, len(result))\n"
     ]
    }
   ],
   "source": [
    "#Best Decision tree for dataset 1\n",
    "\n",
    "dt = DecisionTreeClassifier(random_state=0)\n",
    "\n",
    "parameters = {'criterion': ['gini', 'entropy'],\n",
    "              'max_depth': [1],\n",
    "              'min_samples_split': [0, 1, 5, 10],\n",
    "              'min_impurity_decrease': [0, 1, 5, 10],\n",
    "              'class_weight': ['none', 'balanced']}\n",
    "\n",
    "clf = GridSearchCV(dt, parameters, n_jobs = -1, cv = 3)\n",
    "train_fit=clf.fit(train_X_1, train_Y_1)\n",
    "train_score=clf.score(train_X_1, train_Y_1)\n",
    "\n",
    "test_predict = clf.predict(test_X_1)\n",
    "test_score=clf.score(test_X_1, test_Y_1)\n",
    "\n",
    "print(train_fit,\"\\n\", train_score,\"\\n\",test_predict,\"\\n\",test_score)\n",
    "\n",
    "print('Best parameters found:\\n', clf.best_params_)\n",
    "\n",
    "filename = \"Output/Best-DST-DS1.csv\"\n",
    "size = np.arange(1,test_predict.shape[0])\n",
    "matrix = confusion_matrix(test_Y_1, test_predict)\n",
    "matrix_transpose = pd.DataFrame(matrix).transpose()\n",
    "results = classification_report(test_Y_1, test_predict, output_dict=True)\n",
    "results_transpose = pd.DataFrame(results).transpose()\n",
    "\n",
    "with open(filename, \"w\", newline=\"\") as file:\n",
    "    writer = csv.writer(file)   \n",
    "    writer.writerow([\"Prediction:\"])\n",
    "    for i in zip(size, test_predict):\n",
    "        writer.writerow([i])        \n",
    "    writer = csv.writer(file)\n",
    "    writer.writerow(\"\")\n",
    "    writer.writerow([\"Confusion Matrix:\"])\n",
    "matrix_transpose.to_csv(filename, mode=\"a\")\n",
    "\n",
    "with open(filename, \"a\", newline=\"\") as file:\n",
    "    writer = csv.writer(file)\n",
    "    writer.writerow(\"\")\n",
    "    writer.writerow([\"Results:\"])\n",
    "results_transpose.to_csv(filename, mode=\"a\")"
   ]
  },
  {
   "cell_type": "code",
   "execution_count": 122,
   "metadata": {},
   "outputs": [
    {
     "name": "stdout",
     "output_type": "stream",
     "text": [
      "GridSearchCV(cv=3, estimator=DecisionTreeClassifier(random_state=0), n_jobs=-1,\n",
      "             param_grid={'class_weight': ['none', 'balanced'],\n",
      "                         'criterion': ['gini', 'entropy'], 'max_depth': [1],\n",
      "                         'min_impurity_decrease': [0, 1, 2, 5],\n",
      "                         'min_samples_split': [0, 1, 2, 5]}) \n",
      " 0.2402872163097833 \n",
      " [9 9 9 9 9 9 9 9 9 9 9 9 9 9 9 9 9 9 9 9 9 9 9 9 9 9 9 9 9 9 9 9 9 9 9 9 9\n",
      " 9 9 9 9 9 9 9 9 9 9 9 9 9 9 9 9 9 9 9 9 9 9 9 9 9 9 9 9 9 9 9 9 9 9 9 9 9\n",
      " 9 9 9 9 9 9 9 9 9 9 9 9 9 9 9 9 9 9 9 9 9 9 9 9 9 9 9 9 9 9 9 9 9 9 9 9 9\n",
      " 9 9 9 9 9 9 9 9 9 9 9 9 9 9 9 9 9 9 9 9 9 9 9 9 9 9 9 9 9 9 9 9 9 9 9 9 9\n",
      " 9 9 9 9 9 9 9 9 9 9 9 9 9 9 9 9 9 9 9 9 9 9 9 9 9 9 9 9 9 9 9 9 9 9 9 9 9\n",
      " 9 9 9 9 9 9 9 9 9 9 9 9 9 9 9 9 9 9 9 9 9 9 9 9 9 9 9 9 9 9 9 9 9 9 9 9 9\n",
      " 9 9 9 9 9 9 9 9 9 9 9 9 9 9 9 9 9 9 9 9 9 9 9 9 9 9 9 9 9 9 9 9 9 9 9 9 9\n",
      " 9 9 9 9 9 9 9 9 9 9 9 9 9 9 9 9 9 9 9 9 9 9 9 9 9 9 9 9 9 9 9 9 9 9 9 9 9\n",
      " 9 9 9 9 9 9 9 9 9 9 9 9 9 9 9 9 9 9 9 9 9 9 9 9 9 9 9 9 9 9 9 9 9 9 9 9 9\n",
      " 9 9 9 9 9 9 9 9 9 9 9 9 9 9 9 9 9 9 9 9 9 9 9 9 9 9 9 9 9 9 9 9 9 9 9 9 9\n",
      " 9 9 9 9 9 9 9 9 9 9 9 9 9 9 9 9 9 9 9 9 9 9 9 9 9 9 9 9 9 9 9 9 9 9 9 9 9\n",
      " 9 9 9 9 9 9 9 9 9 9 9 9 9 9 9 9 9 9 9 9 9 9 9 9 9 9 9 9 9 9 9 9 9 9 9 9 9\n",
      " 9 9 9 9 9 9 9 9 9 9 9 9 9 9 9 9 9 9 9 9 9 9 9 9 9 9 9 9 9 9 9 9 9 9 9 9 9\n",
      " 9 9 9 9 9 9 9 9 9 9 9 9 9 9 9 9 9 9 9 9 9 9 9 9 9 9 9 9 9 9 9 9 9 9 9 9 9\n",
      " 9] \n",
      " 0.23892100192678228\n",
      "Best parameters found:\n",
      " {'class_weight': 'balanced', 'criterion': 'gini', 'max_depth': 1, 'min_impurity_decrease': 1, 'min_samples_split': 2}\n"
     ]
    },
    {
     "name": "stderr",
     "output_type": "stream",
     "text": [
      "C:\\Users\\franc\\anaconda3\\lib\\site-packages\\sklearn\\metrics\\_classification.py:1221: UndefinedMetricWarning: Precision and F-score are ill-defined and being set to 0.0 in labels with no predicted samples. Use `zero_division` parameter to control this behavior.\n",
      "  _warn_prf(average, modifier, msg_start, len(result))\n"
     ]
    }
   ],
   "source": [
    "#Best Decision tree for dataset 2\n",
    "\n",
    "dt = DecisionTreeClassifier(random_state=0)\n",
    "\n",
    "parameters = {'criterion': ['gini', 'entropy'],\n",
    "              'max_depth': [1],\n",
    "              'min_samples_split': [0, 1, 2, 5],\n",
    "              'min_impurity_decrease': [0, 1, 2, 5],\n",
    "              'class_weight': ['none', 'balanced']}\n",
    "\n",
    "clf = GridSearchCV(dt, parameters, n_jobs = -1, cv = 3)\n",
    "train_fit=clf.fit(train_X_2, train_Y_2)\n",
    "train_score=clf.score(train_X_2, train_Y_2)\n",
    "\n",
    "test_predict = clf.predict(test_X_2)\n",
    "test_score=clf.score(test_X_2, test_Y_2)\n",
    "\n",
    "print(train_fit,\"\\n\", train_score,\"\\n\",test_predict,\"\\n\",test_score)\n",
    "\n",
    "print('Best parameters found:\\n', clf.best_params_)\n",
    "\n",
    "filename = \"Output/Best-DST-DS2.csv\"\n",
    "size = np.arange(1,test_predict.shape[0])\n",
    "matrix = confusion_matrix(test_Y_2, test_predict)\n",
    "matrix_transpose = pd.DataFrame(matrix).transpose()\n",
    "results = classification_report(test_Y_2, test_predict, output_dict=True)\n",
    "results_transpose = pd.DataFrame(results).transpose()\n",
    "\n",
    "with open(filename, \"w\", newline=\"\") as file:\n",
    "    writer = csv.writer(file)   \n",
    "    writer.writerow([\"Prediction:\"])\n",
    "    for i in zip(size, test_predict):\n",
    "        writer.writerow([i])        \n",
    "    writer = csv.writer(file)\n",
    "    writer.writerow(\"\")\n",
    "    writer.writerow([\"Confusion Matrix:\"])\n",
    "matrix_transpose.to_csv(filename, mode=\"a\")\n",
    "\n",
    "with open(filename, \"a\", newline=\"\") as file:\n",
    "    writer = csv.writer(file)\n",
    "    writer.writerow(\"\")\n",
    "    writer.writerow([\"Results:\"])\n",
    "results_transpose.to_csv(filename, mode=\"a\")"
   ]
  },
  {
   "cell_type": "code",
   "execution_count": 123,
   "metadata": {},
   "outputs": [
    {
     "name": "stdout",
     "output_type": "stream",
     "text": [
      "Perceptron() \n",
      " 0.9941471571906354 \n",
      " [13 22  2 18 17 18 23 22 20  2  9 11 24  4  5  6  8  2 12 16  0 25 17  9\n",
      "  1 21  8 23  8  3 23 10 16 10 23  6 19 15  3 16 11 13  1 13  7 10 14 24\n",
      "  0  7  3 22 20  3 14 25  9 17 14  7  2 11  7 22  6  6 20 12  1 24 22 21\n",
      "  8 22 18 15 17  6 19] \n",
      " 0.7721518987341772\n"
     ]
    }
   ],
   "source": [
    "#Perceptron for dataset 1\n",
    "\n",
    "clf = Perceptron(tol=1e-3, random_state=0)\n",
    "train_fit=clf.fit(train_X_1, train_Y_1)\n",
    "train_score=clf.score(train_X_1, train_Y_1)\n",
    "\n",
    "test_predict=clf.predict(test_X_1)\n",
    "test_score=clf.score(test_X_1, test_Y_1)\n",
    "\n",
    "print(train_fit,\"\\n\", train_score,\"\\n\",test_predict,\"\\n\",test_score)\n",
    "\n",
    "filename = \"Output/PER-DS1.csv\"\n",
    "size = np.arange(1,test_predict.shape[0])\n",
    "matrix = confusion_matrix(test_Y_1, test_predict)\n",
    "matrix_transpose = pd.DataFrame(matrix).transpose()\n",
    "results = classification_report(test_Y_1, test_predict, output_dict=True)\n",
    "results_transpose = pd.DataFrame(results).transpose()\n",
    "\n",
    "with open(filename, \"w\", newline=\"\") as file:\n",
    "    writer = csv.writer(file)   \n",
    "    writer.writerow([\"Prediction:\"])\n",
    "    for i in zip(size, test_predict):\n",
    "        writer.writerow([i])        \n",
    "    writer = csv.writer(file)\n",
    "    writer.writerow(\"\")\n",
    "    writer.writerow([\"Confusion Matrix:\"])\n",
    "matrix_transpose.to_csv(filename, mode=\"a\")\n",
    "\n",
    "with open(filename, \"a\", newline=\"\") as file:\n",
    "    writer = csv.writer(file)\n",
    "    writer.writerow(\"\")\n",
    "    writer.writerow([\"Results:\"])\n",
    "results_transpose.to_csv(filename, mode=\"a\")"
   ]
  },
  {
   "cell_type": "code",
   "execution_count": 124,
   "metadata": {},
   "outputs": [
    {
     "name": "stdout",
     "output_type": "stream",
     "text": [
      "Perceptron() \n",
      " 0.842287472752917 \n",
      " [0 4 5 4 1 1 3 8 4 5 1 3 9 2 3 9 9 7 1 1 1 5 7 9 1 1 1 1 8 9 8 8 9 8 1 5 9\n",
      " 1 1 1 7 4 5 9 9 1 1 5 1 5 4 5 9 0 0 8 5 4 1 1 9 0 0 9 4 1 4 0 1 3 1 1 5 5\n",
      " 8 5 1 4 4 5 1 0 5 0 6 5 9 7 1 8 5 1 1 5 1 5 9 0 0 4 8 8 2 4 5 8 5 5 4 1 9\n",
      " 5 5 4 5 8 1 8 9 1 5 5 9 1 1 5 4 4 4 1 1 8 1 9 1 4 5 0 8 5 0 1 4 5 4 4 4 5\n",
      " 1 1 5 9 1 5 4 1 5 5 4 0 8 0 1 1 1 1 1 9 0 5 9 5 0 4 1 1 4 4 5 4 1 5 9 4 1\n",
      " 9 4 1 3 1 4 1 8 5 7 9 7 9 8 5 0 9 0 5 1 8 1 5 1 4 5 1 0 9 3 8 1 1 9 4 1 4\n",
      " 4 5 1 8 5 8 1 9 1 1 9 1 1 5 9 1 1 2 0 5 9 1 1 5 4 5 7 9 1 1 1 4 0 9 5 1 1\n",
      " 4 1 1 1 5 5 5 2 7 8 5 4 4 1 7 0 5 8 9 5 0 4 4 6 3 9 0 1 5 1 3 9 4 8 1 9 1\n",
      " 0 0 5 1 5 9 5 1 1 1 7 1 3 9 9 1 4 1 8 5 5 9 7 9 1 9 5 5 5 9 0 1 5 5 1 9 4\n",
      " 1 1 7 1 9 5 8 5 5 8 0 5 5 4 4 5 3 3 1 8 1 9 5 1 1 1 4 1 4 2 4 2 8 1 1 1 9\n",
      " 5 1 5 1 4 1 9 8 8 1 9 1 1 1 5 4 4 5 1 9 9 0 1 5 1 2 8 2 1 1 9 0 9 8 7 8 9\n",
      " 5 4 5 6 1 1 1 1 9 1 4 5 4 9 1 9 8 0 9 5 4 8 0 0 1 9 9 1 1 5 9 5 1 0 0 1 0\n",
      " 4 8 4 4 5 9 4 1 2 8 0 1 0 1 9 1 8 8 9 8 4 1 8 7 8 9 8 2 9 5 5 5 0 5 4 1 1\n",
      " 1 1 9 4 9 8 9 0 1 5 4 1 8 1 3 0 0 1 9 0 5 4 9 0 2 1 5 8 9 1 1 9 4 0 1 4 6\n",
      " 5] \n",
      " 0.7649325626204239\n"
     ]
    }
   ],
   "source": [
    "#Perceptron for dataset 2\n",
    "\n",
    "clf = Perceptron(tol=1e-3, random_state=0)\n",
    "train_fit=clf.fit(train_X_2, train_Y_2)\n",
    "train_score=clf.score(train_X_2, train_Y_2)\n",
    "\n",
    "test_predict=clf.predict(test_X_2)\n",
    "test_score=clf.score(test_X_2, test_Y_2)\n",
    "\n",
    "print(train_fit,\"\\n\", train_score,\"\\n\",test_predict,\"\\n\",test_score)\n",
    "\n",
    "filename = \"Output/PER-DS2.csv\"\n",
    "size = np.arange(1,test_predict.shape[0])\n",
    "matrix = confusion_matrix(test_Y_2, test_predict)\n",
    "matrix_transpose = pd.DataFrame(matrix).transpose()\n",
    "results = classification_report(test_Y_2, test_predict, output_dict=True)\n",
    "results_transpose = pd.DataFrame(results).transpose()\n",
    "\n",
    "with open(filename, \"w\", newline=\"\") as file:\n",
    "    writer = csv.writer(file)   \n",
    "    writer.writerow([\"Prediction:\"])\n",
    "    for i in zip(size, test_predict):\n",
    "        writer.writerow([i])        \n",
    "    writer = csv.writer(file)\n",
    "    writer.writerow(\"\")\n",
    "    writer.writerow([\"Confusion Matrix:\"])\n",
    "matrix_transpose.to_csv(filename, mode=\"a\")\n",
    "\n",
    "with open(filename, \"a\", newline=\"\") as file:\n",
    "    writer = csv.writer(file)\n",
    "    writer.writerow(\"\")\n",
    "    writer.writerow([\"Results:\"])\n",
    "results_transpose.to_csv(filename, mode=\"a\")"
   ]
  },
  {
   "cell_type": "code",
   "execution_count": 125,
   "metadata": {},
   "outputs": [
    {
     "name": "stdout",
     "output_type": "stream",
     "text": [
      "MLPClassifier(activation='logistic', solver='sgd') \n",
      " 0.48244147157190637 \n",
      " [13  0  2  8 17 11 17 22 11  2  9 11  8 11 10  0  8  2 12 14  0  9 17  8\n",
      " 17 10  8 17  6 14 13 10 14 10 17  2  8 15 12 12 10 13 15  0 17 12 14 12\n",
      "  0  7  8 11 11 14 14  0  9 17 14 12 11 11 10 17  6  6 14 12 13 13 22 13\n",
      "  8 12  2 10 17  6  8] \n",
      " 0.3924050632911392\n"
     ]
    },
    {
     "name": "stderr",
     "output_type": "stream",
     "text": [
      "C:\\Users\\franc\\anaconda3\\lib\\site-packages\\sklearn\\neural_network\\_multilayer_perceptron.py:582: ConvergenceWarning: Stochastic Optimizer: Maximum iterations (200) reached and the optimization hasn't converged yet.\n",
      "  warnings.warn(\n",
      "C:\\Users\\franc\\anaconda3\\lib\\site-packages\\sklearn\\metrics\\_classification.py:1221: UndefinedMetricWarning: Precision and F-score are ill-defined and being set to 0.0 in labels with no predicted samples. Use `zero_division` parameter to control this behavior.\n",
      "  _warn_prf(average, modifier, msg_start, len(result))\n"
     ]
    }
   ],
   "source": [
    "#Baseline Multi-Layered Perceptron for dataset 1\n",
    "\n",
    "clf = MLPClassifier(solver = 'sgd', activation = 'logistic', hidden_layer_sizes = (100, ))\n",
    "train_fit=clf.fit(train_X_1, train_Y_1)\n",
    "train_score=clf.score(train_X_1, train_Y_1)\n",
    "\n",
    "test_predict=clf.predict(test_X_1)\n",
    "test_score=clf.score(test_X_1, test_Y_1)\n",
    "\n",
    "print(train_fit,\"\\n\", train_score,\"\\n\",test_predict,\"\\n\",test_score)\n",
    "\n",
    "filename = \"Output/Base-MLP-DS1.csv\"\n",
    "size = np.arange(1,test_predict.shape[0])\n",
    "matrix = confusion_matrix(test_Y_1, test_predict)\n",
    "matrix_transpose = pd.DataFrame(matrix).transpose()\n",
    "results = classification_report(test_Y_1, test_predict, output_dict=True)\n",
    "results_transpose = pd.DataFrame(results).transpose()\n",
    "\n",
    "with open(filename, \"w\", newline=\"\") as file:\n",
    "    writer = csv.writer(file)   \n",
    "    writer.writerow([\"Prediction:\"])\n",
    "    for i in zip(size, test_predict):\n",
    "        writer.writerow([i])        \n",
    "    writer = csv.writer(file)\n",
    "    writer.writerow(\"\")\n",
    "    writer.writerow([\"Confusion Matrix:\"])\n",
    "matrix_transpose.to_csv(filename, mode=\"a\")\n",
    "\n",
    "with open(filename, \"a\", newline=\"\") as file:\n",
    "    writer = csv.writer(file)\n",
    "    writer.writerow(\"\")\n",
    "    writer.writerow([\"Results:\"])\n",
    "results_transpose.to_csv(filename, mode=\"a\")"
   ]
  },
  {
   "cell_type": "code",
   "execution_count": 126,
   "metadata": {},
   "outputs": [
    {
     "name": "stdout",
     "output_type": "stream",
     "text": [
      "MLPClassifier(activation='logistic', solver='sgd') \n",
      " 0.8622900371842543 \n",
      " [0 4 5 9 1 1 3 8 9 5 1 3 9 9 3 9 9 7 1 6 1 9 7 9 8 1 1 8 8 9 8 8 9 8 1 5 9\n",
      " 1 1 1 7 9 5 9 9 1 1 5 1 9 4 5 9 0 0 8 5 9 1 1 9 0 0 9 0 1 4 0 0 3 0 1 9 5\n",
      " 8 9 1 0 4 7 1 0 5 0 9 9 9 7 1 8 4 1 1 5 1 9 9 0 0 4 8 8 2 4 5 8 5 5 4 1 9\n",
      " 5 5 8 9 8 1 8 9 1 5 5 9 1 1 2 4 4 9 1 1 8 1 9 1 4 9 0 8 5 0 1 4 4 4 9 9 5\n",
      " 1 1 5 9 1 5 0 1 5 5 3 0 8 0 1 1 1 1 1 9 0 5 9 5 0 4 1 1 0 0 5 4 1 9 9 4 1\n",
      " 9 4 0 3 1 9 1 9 5 7 9 7 9 9 5 0 9 0 5 5 8 1 5 1 4 5 1 0 9 0 8 1 1 9 8 1 9\n",
      " 4 9 3 9 5 8 1 9 1 4 9 1 6 5 9 8 1 2 0 9 9 1 1 5 0 9 7 9 1 1 1 9 0 9 4 1 1\n",
      " 9 1 1 1 5 5 9 2 7 8 5 4 9 1 7 8 5 8 9 5 0 4 4 6 0 9 0 1 9 1 3 9 8 8 1 9 1\n",
      " 0 8 5 1 5 9 5 1 1 1 7 1 3 9 9 1 9 1 8 5 9 9 7 9 1 9 9 2 5 9 0 1 9 5 1 9 4\n",
      " 1 6 7 1 9 4 8 9 5 8 0 5 5 4 9 9 5 3 1 8 1 9 4 1 1 1 0 9 0 9 9 2 8 1 1 1 9\n",
      " 5 1 5 1 4 1 9 8 8 1 9 1 1 1 9 4 4 9 8 9 9 0 1 5 1 2 8 2 1 1 9 0 9 8 7 8 9\n",
      " 8 0 5 6 1 9 1 1 9 1 4 5 9 9 0 9 8 0 9 5 4 8 9 0 1 9 9 1 1 9 9 5 1 0 0 1 0\n",
      " 9 8 8 4 9 9 9 1 9 8 0 1 0 1 9 1 8 8 9 9 4 1 8 7 8 9 8 2 9 5 9 5 0 8 4 1 1\n",
      " 1 0 9 4 9 8 9 0 1 5 4 1 8 1 3 0 0 1 9 0 5 4 9 0 8 1 5 8 9 1 1 9 4 0 1 9 6\n",
      " 5] \n",
      " 0.8342967244701349\n"
     ]
    },
    {
     "name": "stderr",
     "output_type": "stream",
     "text": [
      "C:\\Users\\franc\\anaconda3\\lib\\site-packages\\sklearn\\neural_network\\_multilayer_perceptron.py:582: ConvergenceWarning: Stochastic Optimizer: Maximum iterations (200) reached and the optimization hasn't converged yet.\n",
      "  warnings.warn(\n"
     ]
    }
   ],
   "source": [
    "#Baseline Multi-Layered Perceptron for dataset 2\n",
    "\n",
    "clf = MLPClassifier(solver = 'sgd', activation = 'logistic', hidden_layer_sizes = (100, ))\n",
    "train_fit=clf.fit(train_X_2, train_Y_2)\n",
    "train_score=clf.score(train_X_2, train_Y_2)\n",
    "\n",
    "test_predict=clf.predict(test_X_2)\n",
    "test_score=clf.score(test_X_2, test_Y_2)\n",
    "\n",
    "print(train_fit,\"\\n\", train_score,\"\\n\",test_predict,\"\\n\",test_score)\n",
    "\n",
    "filename = \"Output/Base-MLP-DS2.csv\"\n",
    "size = np.arange(1,test_predict.shape[0])\n",
    "matrix = confusion_matrix(test_Y_2, test_predict)\n",
    "matrix_transpose = pd.DataFrame(matrix).transpose()\n",
    "results = classification_report(test_Y_2, test_predict, output_dict=True)\n",
    "results_transpose = pd.DataFrame(results).transpose()\n",
    "\n",
    "with open(filename, \"w\", newline=\"\") as file:\n",
    "    writer = csv.writer(file)   \n",
    "    writer.writerow([\"Prediction:\"])\n",
    "    for i in zip(size, test_predict):\n",
    "        writer.writerow([i])        \n",
    "    writer = csv.writer(file)\n",
    "    writer.writerow(\"\")\n",
    "    writer.writerow([\"Confusion Matrix:\"])\n",
    "matrix_transpose.to_csv(filename, mode=\"a\")\n",
    "\n",
    "with open(filename, \"a\", newline=\"\") as file:\n",
    "    writer = csv.writer(file)\n",
    "    writer.writerow(\"\")\n",
    "    writer.writerow([\"Results:\"])\n",
    "results_transpose.to_csv(filename, mode=\"a\")"
   ]
  },
  {
   "cell_type": "code",
   "execution_count": 127,
   "metadata": {},
   "outputs": [
    {
     "name": "stdout",
     "output_type": "stream",
     "text": [
      "GridSearchCV(cv=3, estimator=MLPClassifier(), n_jobs=-1,\n",
      "             param_grid={'activation': ['logistic', 'tanh', 'relu', 'identity'],\n",
      "                         'hidden_layer_sizes': [(30, 50), (10, 10, 10)],\n",
      "                         'solver': ['adam', 'sgd']}) \n",
      " 1.0 \n",
      " [13  7  2 18 17 18 23 22 20 11  9 11 19  4  5  6  8  2  4 16  0 25 17  9\n",
      "  1 21  8 24  6  3 23 10 16 10  0  6 19 15 15 16 11 13  1 13  7 10 14 24\n",
      "  0  7  3 21 20  3 14  0  9 15 14  7  2 11  7  0  6  6 20 12  1 24 22 21\n",
      "  8 21 18 17 17  6 19] \n",
      " 0.7974683544303798\n",
      "Best parameters found:\n",
      " {'activation': 'identity', 'hidden_layer_sizes': (30, 50), 'solver': 'adam'}\n"
     ]
    }
   ],
   "source": [
    "#Best Multi-Layered Perceptron for dataset 1\n",
    "\n",
    "mlp = MLPClassifier(max_iter=200)\n",
    "\n",
    "parameters = {'activation': ['logistic', 'tanh', 'relu', 'identity'],\n",
    "              'hidden_layer_sizes': [(30, 50), (10, 10, 10)],\n",
    "              'solver': ['adam', 'sgd']}\n",
    "\n",
    "clf = GridSearchCV(mlp, parameters, n_jobs = -1, cv = 3)\n",
    "train_fit=clf.fit(train_X_1, train_Y_1)\n",
    "train_score=clf.score(train_X_1, train_Y_1)\n",
    "\n",
    "test_predict = clf.predict(test_X_1)\n",
    "test_score=clf.score(test_X_1, test_Y_1)\n",
    "\n",
    "print(train_fit,\"\\n\", train_score,\"\\n\",test_predict,\"\\n\",test_score)\n",
    "\n",
    "print('Best parameters found:\\n', clf.best_params_)\n",
    "\n",
    "filename = \"Output/Best-MLP-DS1.csv\"\n",
    "size = np.arange(1,test_predict.shape[0])\n",
    "matrix = confusion_matrix(test_Y_1, test_predict)\n",
    "matrix_transpose = pd.DataFrame(matrix).transpose()\n",
    "results = classification_report(test_Y_1, test_predict, output_dict=True)\n",
    "results_transpose = pd.DataFrame(results).transpose()\n",
    "\n",
    "with open(filename, \"w\", newline=\"\") as file:\n",
    "    writer = csv.writer(file)   \n",
    "    writer.writerow([\"Prediction:\"])\n",
    "    for i in zip(size, test_predict):\n",
    "        writer.writerow([i])        \n",
    "    writer = csv.writer(file)\n",
    "    writer.writerow(\"\")\n",
    "    writer.writerow([\"Confusion Matrix:\"])\n",
    "matrix_transpose.to_csv(filename, mode=\"a\")\n",
    "\n",
    "with open(filename, \"a\", newline=\"\") as file:\n",
    "    writer = csv.writer(file)\n",
    "    writer.writerow(\"\")\n",
    "    writer.writerow([\"Results:\"])\n",
    "results_transpose.to_csv(filename, mode=\"a\")"
   ]
  },
  {
   "cell_type": "code",
   "execution_count": 128,
   "metadata": {},
   "outputs": [
    {
     "name": "stdout",
     "output_type": "stream",
     "text": [
      "GridSearchCV(cv=3, estimator=MLPClassifier(), n_jobs=-1,\n",
      "             param_grid={'activation': ['logistic', 'tanh', 'relu', 'identity'],\n",
      "                         'hidden_layer_sizes': [(30, 50), (10, 10, 10)],\n",
      "                         'solver': ['adam', 'sgd']}) \n",
      " 0.9643544044108219 \n",
      " [0 4 5 4 1 1 3 8 9 0 1 3 9 9 3 9 9 7 1 6 1 9 7 9 8 1 1 8 8 9 8 8 9 8 1 5 9\n",
      " 1 1 1 7 0 5 9 9 1 1 5 1 8 2 5 9 0 0 8 5 5 1 1 9 0 0 9 0 1 4 0 2 3 1 1 5 5\n",
      " 8 4 1 4 9 7 1 0 5 0 6 9 9 7 1 8 4 1 1 5 1 9 9 0 0 4 8 8 2 4 5 8 5 5 4 1 9\n",
      " 5 5 8 9 8 1 8 9 1 5 5 9 1 1 2 4 4 4 1 1 8 1 9 1 4 2 0 8 5 0 1 4 5 4 9 9 9\n",
      " 1 1 5 9 1 5 0 1 5 5 3 0 8 0 1 1 1 1 1 9 0 5 9 5 0 4 1 1 0 0 5 4 1 5 9 4 1\n",
      " 9 4 8 3 1 9 1 8 5 7 9 7 9 9 9 0 9 0 9 1 8 1 5 1 4 5 0 0 9 0 8 1 1 9 8 1 4\n",
      " 4 4 3 8 5 4 1 9 1 9 9 1 2 5 9 2 1 2 0 9 9 1 1 5 0 5 7 9 1 1 1 9 0 9 5 1 1\n",
      " 4 1 1 1 5 5 9 2 7 8 5 4 4 1 7 0 5 8 9 5 0 0 4 6 3 9 0 1 5 1 3 9 4 8 1 9 1\n",
      " 0 0 5 3 5 9 5 1 1 1 7 8 1 9 9 1 4 1 8 5 9 9 7 9 1 9 9 4 5 9 0 1 9 5 1 9 4\n",
      " 1 1 7 1 9 4 8 8 5 8 0 5 5 9 2 9 5 3 8 8 1 9 4 1 1 1 9 9 0 5 4 2 0 1 1 3 9\n",
      " 5 1 5 1 9 1 9 8 8 1 9 1 1 1 9 9 4 9 1 9 9 0 1 5 1 2 8 2 1 1 9 1 9 8 7 2 9\n",
      " 8 4 5 6 1 9 1 1 9 1 4 5 4 9 0 9 4 0 9 5 4 8 9 0 1 9 9 1 1 9 9 5 1 0 0 1 0\n",
      " 9 8 8 0 5 9 4 1 2 8 0 1 0 1 9 1 8 8 9 8 4 1 8 7 8 9 8 2 9 3 9 5 0 8 6 6 8\n",
      " 1 2 9 4 9 8 9 0 1 5 4 1 8 1 3 0 0 1 9 0 5 4 9 0 2 1 5 4 9 1 1 9 4 0 1 9 6\n",
      " 5] \n",
      " 0.861271676300578\n",
      "Best parameters found:\n",
      " {'activation': 'tanh', 'hidden_layer_sizes': (30, 50), 'solver': 'adam'}\n"
     ]
    }
   ],
   "source": [
    "#Best Multi-Layered Perceptron for dataset 2\n",
    "\n",
    "mlp = MLPClassifier(max_iter=200)\n",
    "\n",
    "parameters = {'activation': ['logistic', 'tanh', 'relu', 'identity'],\n",
    "              'hidden_layer_sizes': [(30, 50), (10, 10, 10)],\n",
    "              'solver': ['adam', 'sgd']}\n",
    "\n",
    "clf = GridSearchCV(mlp, parameters, n_jobs = -1, cv = 3)\n",
    "train_fit=clf.fit(train_X_2, train_Y_2)\n",
    "train_score=clf.score(train_X_2, train_Y_2)\n",
    "\n",
    "test_predict = clf.predict(test_X_2)\n",
    "test_score=clf.score(test_X_2, test_Y_2)\n",
    "\n",
    "print(train_fit,\"\\n\", train_score,\"\\n\",test_predict,\"\\n\",test_score)\n",
    "\n",
    "print('Best parameters found:\\n', clf.best_params_)\n",
    "\n",
    "filename = \"Output/Best-MLP-DS2.csv\"\n",
    "size = np.arange(1,test_predict.shape[0])\n",
    "matrix = confusion_matrix(test_Y_2, test_predict)\n",
    "matrix_transpose = pd.DataFrame(matrix).transpose()\n",
    "results = classification_report(test_Y_2, test_predict, output_dict=True)\n",
    "results_transpose = pd.DataFrame(results).transpose()\n",
    "\n",
    "with open(filename, \"w\", newline=\"\") as file:\n",
    "    writer = csv.writer(file)   \n",
    "    writer.writerow([\"Prediction:\"])\n",
    "    for i in zip(size, test_predict):\n",
    "        writer.writerow([i])        \n",
    "    writer = csv.writer(file)\n",
    "    writer.writerow(\"\")\n",
    "    writer.writerow([\"Confusion Matrix:\"])\n",
    "matrix_transpose.to_csv(filename, mode=\"a\")\n",
    "\n",
    "with open(filename, \"a\", newline=\"\") as file:\n",
    "    writer = csv.writer(file)\n",
    "    writer.writerow(\"\")\n",
    "    writer.writerow([\"Results:\"])\n",
    "results_transpose.to_csv(filename, mode=\"a\")"
   ]
  }
 ],
 "metadata": {
  "kernelspec": {
   "display_name": "Python 3",
   "language": "python",
   "name": "python3"
  },
  "language_info": {
   "codemirror_mode": {
    "name": "ipython",
    "version": 3
   },
   "file_extension": ".py",
   "mimetype": "text/x-python",
   "name": "python",
   "nbconvert_exporter": "python",
   "pygments_lexer": "ipython3",
   "version": "3.8.3"
  }
 },
 "nbformat": 4,
 "nbformat_minor": 4
}
